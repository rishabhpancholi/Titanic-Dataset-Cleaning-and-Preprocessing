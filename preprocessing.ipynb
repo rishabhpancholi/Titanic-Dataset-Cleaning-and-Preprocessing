{
 "cells": [
  {
   "cell_type": "markdown",
   "id": "1e1c76bf-2099-4783-9cf3-6cc282f42686",
   "metadata": {},
   "source": [
    "# Importing the Libraries"
   ]
  },
  {
   "cell_type": "code",
   "execution_count": 2,
   "id": "7f4442a6-986f-4060-af2f-17b23663041e",
   "metadata": {},
   "outputs": [],
   "source": [
    "import numpy as np\n",
    "import pandas as pd\n",
    "import matplotlib.pyplot as plt\n",
    "import seaborn as sns\n",
    "%matplotlib inline\n",
    "\n",
    "from sklearn.model_selection import train_test_split\n",
    "from sklearn.impute import SimpleImputer,KNNImputer\n",
    "from sklearn.preprocessing import StandardScaler,OneHotEncoder\n",
    "from sklearn.compose import ColumnTransformer\n",
    "\n",
    "import warnings\n",
    "warnings.filterwarnings('ignore')"
   ]
  },
  {
   "cell_type": "markdown",
   "id": "636b1ead-a56a-4245-aac0-ea20faca0cfc",
   "metadata": {},
   "source": [
    "# Loading The Dataset"
   ]
  },
  {
   "cell_type": "code",
   "execution_count": 4,
   "id": "a5605eb8-d301-46c3-86c8-514565118c0e",
   "metadata": {},
   "outputs": [],
   "source": [
    "df = pd.read_csv('titanic.csv')"
   ]
  },
  {
   "cell_type": "code",
   "execution_count": 5,
   "id": "d0f64a57-14f9-4793-ba25-4f0f1c77b108",
   "metadata": {},
   "outputs": [
    {
     "data": {
      "text/html": [
       "<div>\n",
       "<style scoped>\n",
       "    .dataframe tbody tr th:only-of-type {\n",
       "        vertical-align: middle;\n",
       "    }\n",
       "\n",
       "    .dataframe tbody tr th {\n",
       "        vertical-align: top;\n",
       "    }\n",
       "\n",
       "    .dataframe thead th {\n",
       "        text-align: right;\n",
       "    }\n",
       "</style>\n",
       "<table border=\"1\" class=\"dataframe\">\n",
       "  <thead>\n",
       "    <tr style=\"text-align: right;\">\n",
       "      <th></th>\n",
       "      <th>PassengerId</th>\n",
       "      <th>Survived</th>\n",
       "      <th>Pclass</th>\n",
       "      <th>Name</th>\n",
       "      <th>Sex</th>\n",
       "      <th>Age</th>\n",
       "      <th>SibSp</th>\n",
       "      <th>Parch</th>\n",
       "      <th>Ticket</th>\n",
       "      <th>Fare</th>\n",
       "      <th>Cabin</th>\n",
       "      <th>Embarked</th>\n",
       "    </tr>\n",
       "  </thead>\n",
       "  <tbody>\n",
       "    <tr>\n",
       "      <th>0</th>\n",
       "      <td>1</td>\n",
       "      <td>0</td>\n",
       "      <td>3</td>\n",
       "      <td>Braund, Mr. Owen Harris</td>\n",
       "      <td>male</td>\n",
       "      <td>22.0</td>\n",
       "      <td>1</td>\n",
       "      <td>0</td>\n",
       "      <td>A/5 21171</td>\n",
       "      <td>7.2500</td>\n",
       "      <td>NaN</td>\n",
       "      <td>S</td>\n",
       "    </tr>\n",
       "    <tr>\n",
       "      <th>1</th>\n",
       "      <td>2</td>\n",
       "      <td>1</td>\n",
       "      <td>1</td>\n",
       "      <td>Cumings, Mrs. John Bradley (Florence Briggs Th...</td>\n",
       "      <td>female</td>\n",
       "      <td>38.0</td>\n",
       "      <td>1</td>\n",
       "      <td>0</td>\n",
       "      <td>PC 17599</td>\n",
       "      <td>71.2833</td>\n",
       "      <td>C85</td>\n",
       "      <td>C</td>\n",
       "    </tr>\n",
       "    <tr>\n",
       "      <th>2</th>\n",
       "      <td>3</td>\n",
       "      <td>1</td>\n",
       "      <td>3</td>\n",
       "      <td>Heikkinen, Miss. Laina</td>\n",
       "      <td>female</td>\n",
       "      <td>26.0</td>\n",
       "      <td>0</td>\n",
       "      <td>0</td>\n",
       "      <td>STON/O2. 3101282</td>\n",
       "      <td>7.9250</td>\n",
       "      <td>NaN</td>\n",
       "      <td>S</td>\n",
       "    </tr>\n",
       "    <tr>\n",
       "      <th>3</th>\n",
       "      <td>4</td>\n",
       "      <td>1</td>\n",
       "      <td>1</td>\n",
       "      <td>Futrelle, Mrs. Jacques Heath (Lily May Peel)</td>\n",
       "      <td>female</td>\n",
       "      <td>35.0</td>\n",
       "      <td>1</td>\n",
       "      <td>0</td>\n",
       "      <td>113803</td>\n",
       "      <td>53.1000</td>\n",
       "      <td>C123</td>\n",
       "      <td>S</td>\n",
       "    </tr>\n",
       "    <tr>\n",
       "      <th>4</th>\n",
       "      <td>5</td>\n",
       "      <td>0</td>\n",
       "      <td>3</td>\n",
       "      <td>Allen, Mr. William Henry</td>\n",
       "      <td>male</td>\n",
       "      <td>35.0</td>\n",
       "      <td>0</td>\n",
       "      <td>0</td>\n",
       "      <td>373450</td>\n",
       "      <td>8.0500</td>\n",
       "      <td>NaN</td>\n",
       "      <td>S</td>\n",
       "    </tr>\n",
       "  </tbody>\n",
       "</table>\n",
       "</div>"
      ],
      "text/plain": [
       "   PassengerId  Survived  Pclass  \\\n",
       "0            1         0       3   \n",
       "1            2         1       1   \n",
       "2            3         1       3   \n",
       "3            4         1       1   \n",
       "4            5         0       3   \n",
       "\n",
       "                                                Name     Sex   Age  SibSp  \\\n",
       "0                            Braund, Mr. Owen Harris    male  22.0      1   \n",
       "1  Cumings, Mrs. John Bradley (Florence Briggs Th...  female  38.0      1   \n",
       "2                             Heikkinen, Miss. Laina  female  26.0      0   \n",
       "3       Futrelle, Mrs. Jacques Heath (Lily May Peel)  female  35.0      1   \n",
       "4                           Allen, Mr. William Henry    male  35.0      0   \n",
       "\n",
       "   Parch            Ticket     Fare Cabin Embarked  \n",
       "0      0         A/5 21171   7.2500   NaN        S  \n",
       "1      0          PC 17599  71.2833   C85        C  \n",
       "2      0  STON/O2. 3101282   7.9250   NaN        S  \n",
       "3      0            113803  53.1000  C123        S  \n",
       "4      0            373450   8.0500   NaN        S  "
      ]
     },
     "execution_count": 5,
     "metadata": {},
     "output_type": "execute_result"
    }
   ],
   "source": [
    "df.head()"
   ]
  },
  {
   "cell_type": "markdown",
   "id": "58dc5d0d-0b3a-4c41-b594-778642d312f5",
   "metadata": {},
   "source": [
    "# Exploring Basic Info"
   ]
  },
  {
   "cell_type": "code",
   "execution_count": 7,
   "id": "dfcf61ce-5186-4e24-8e0d-2f89d6ffede1",
   "metadata": {},
   "outputs": [
    {
     "name": "stdout",
     "output_type": "stream",
     "text": [
      "<class 'pandas.core.frame.DataFrame'>\n",
      "RangeIndex: 891 entries, 0 to 890\n",
      "Data columns (total 12 columns):\n",
      " #   Column       Non-Null Count  Dtype  \n",
      "---  ------       --------------  -----  \n",
      " 0   PassengerId  891 non-null    int64  \n",
      " 1   Survived     891 non-null    int64  \n",
      " 2   Pclass       891 non-null    int64  \n",
      " 3   Name         891 non-null    object \n",
      " 4   Sex          891 non-null    object \n",
      " 5   Age          714 non-null    float64\n",
      " 6   SibSp        891 non-null    int64  \n",
      " 7   Parch        891 non-null    int64  \n",
      " 8   Ticket       891 non-null    object \n",
      " 9   Fare         891 non-null    float64\n",
      " 10  Cabin        204 non-null    object \n",
      " 11  Embarked     889 non-null    object \n",
      "dtypes: float64(2), int64(5), object(5)\n",
      "memory usage: 83.7+ KB\n"
     ]
    }
   ],
   "source": [
    "df.info()"
   ]
  },
  {
   "cell_type": "markdown",
   "id": "f8ecc983-c37b-402f-8e37-1f8c375b4156",
   "metadata": {},
   "source": [
    "### Identifying Categorical and Numerical Columns"
   ]
  },
  {
   "cell_type": "code",
   "execution_count": 9,
   "id": "b7cb1660-4afb-41c2-ad29-33d624081f6f",
   "metadata": {},
   "outputs": [
    {
     "name": "stdout",
     "output_type": "stream",
     "text": [
      "The categorical columns are ['Name', 'Sex', 'Ticket', 'Cabin', 'Embarked']\n",
      "The numerical columns are ['PassengerId', 'Survived', 'Pclass', 'Age', 'SibSp', 'Parch', 'Fare']\n"
     ]
    }
   ],
   "source": [
    "categorical_cols = []\n",
    "numerical_cols = []\n",
    "\n",
    "for col in df.columns:\n",
    "    if df[col].dtypes=='O':\n",
    "        categorical_cols.append(col)\n",
    "    else:\n",
    "        numerical_cols.append(col)\n",
    "\n",
    "print('The categorical columns are {}'.format(categorical_cols))\n",
    "print('The numerical columns are {}'.format(numerical_cols))"
   ]
  },
  {
   "cell_type": "markdown",
   "id": "ff8886d3-ae18-4d23-b3a8-d51a09151287",
   "metadata": {},
   "source": [
    "### Checking null values"
   ]
  },
  {
   "cell_type": "code",
   "execution_count": 11,
   "id": "fdc1221e-03e9-4fdc-a3b3-dc243ca316c7",
   "metadata": {},
   "outputs": [
    {
     "name": "stdout",
     "output_type": "stream",
     "text": [
      "The following columns has missing values:\n",
      "                              \n",
      "The column Age has 19.87 % null values\n",
      "The column Cabin has 77.1 % null values\n",
      "The column Embarked has 0.22 % null values\n"
     ]
    }
   ],
   "source": [
    "print('The following columns has missing values:')\n",
    "print(' '*30)\n",
    "for col in df.columns:\n",
    "    if df[col].isnull().sum():\n",
    "     print(f'The column {col} has {np.round(df[col].isnull().mean()*100,2)} % null values')"
   ]
  },
  {
   "cell_type": "markdown",
   "id": "9c0d5798-6daf-4630-ae4b-f1bd20c76ea6",
   "metadata": {},
   "source": [
    "### Checking Duplicates"
   ]
  },
  {
   "cell_type": "code",
   "execution_count": 13,
   "id": "429b3aa3-14b3-422f-87f0-b87741a9f92a",
   "metadata": {},
   "outputs": [
    {
     "name": "stdout",
     "output_type": "stream",
     "text": [
      "The dataset has 0.0 % duplicate rows\n"
     ]
    }
   ],
   "source": [
    "print('The dataset has {} % duplicate rows'.format(df.duplicated().sum()*100/len(df)))"
   ]
  },
  {
   "cell_type": "markdown",
   "id": "174ec5dd-c8ee-49b8-83fb-f27208fc79aa",
   "metadata": {},
   "source": [
    "# Data Preprocessing"
   ]
  },
  {
   "cell_type": "markdown",
   "id": "b7efc2b6-e8bd-4481-9e89-6d6c012ebb12",
   "metadata": {},
   "source": [
    "### Seperating train and test data"
   ]
  },
  {
   "cell_type": "code",
   "execution_count": 16,
   "id": "c2fb2b5a-e73d-4912-bbf2-562153d2d648",
   "metadata": {},
   "outputs": [],
   "source": [
    "X = df.drop('Survived', axis=1)\n",
    "y = df['Survived']\n",
    "\n",
    "X_train, X_test, y_train, y_test = train_test_split(X, y, test_size=0.3, random_state=42)"
   ]
  },
  {
   "cell_type": "markdown",
   "id": "c5bd0741-9557-4323-98e1-b81bea9a03b4",
   "metadata": {},
   "source": [
    "### Removing Unnecessary Columns"
   ]
  },
  {
   "cell_type": "code",
   "execution_count": 18,
   "id": "80a815af-a645-47cf-b503-51a4a36ce5fa",
   "metadata": {},
   "outputs": [],
   "source": [
    "X_train.drop(columns={'PassengerId','Name','Ticket','Cabin'},axis=1,inplace=True)\n",
    "X_test.drop(columns={'PassengerId','Name','Ticket','Cabin'},axis=1,inplace=True)"
   ]
  },
  {
   "cell_type": "markdown",
   "id": "8f81c186-4094-467a-bc70-8c3f9a7cb593",
   "metadata": {},
   "source": [
    "### Imputing the Values"
   ]
  },
  {
   "cell_type": "code",
   "execution_count": 20,
   "id": "87aa2458-71bc-4599-b322-3a99a9e8a4c3",
   "metadata": {},
   "outputs": [],
   "source": [
    "age_imputer = KNNImputer(n_neighbors=5, weights='uniform')\n",
    "embarked_imputer = SimpleImputer(strategy = 'most_frequent')\n",
    "\n",
    "X_train['Age'] = age_imputer.fit_transform(X_train[['Age']]).ravel()\n",
    "X_test['Age'] = age_imputer.transform(X_test[['Age']]).ravel()\n",
    "\n",
    "X_train['Embarked'] = embarked_imputer.fit_transform(X_train[['Embarked']]).ravel()\n",
    "X_test['Embarked'] = embarked_imputer.transform(X_test[['Embarked']]).ravel()"
   ]
  },
  {
   "cell_type": "markdown",
   "id": "17a6a9b4-86ac-4367-9937-4d183f95a02d",
   "metadata": {},
   "source": [
    "### Removing The Outliers"
   ]
  },
  {
   "cell_type": "code",
   "execution_count": 22,
   "id": "6ce9426a-845d-44c1-9af7-5c11f9bc3ec3",
   "metadata": {},
   "outputs": [
    {
     "data": {
      "image/png": "[encoded data removed]",
      "text/plain": [
       "<Figure size 1000x500 with 1 Axes>"
      ]
     },
     "metadata": {},
     "output_type": "display_data"
    }
   ],
   "source": [
    "plt.figure(figsize=(10,5))\n",
    "sns.boxplot(data=X_train,y='Age')\n",
    "plt.show()"
   ]
  },
  {
   "cell_type": "code",
   "execution_count": 23,
   "id": "11e0a56f-8d2c-436a-87d0-34e358e30b1f",
   "metadata": {},
   "outputs": [
    {
     "data": {
      "image/png": "[encoded data removed]",
      "text/plain": [
       "<Figure size 1000x500 with 1 Axes>"
      ]
     },
     "metadata": {},
     "output_type": "display_data"
    }
   ],
   "source": [
    "plt.figure(figsize=(10,5))\n",
    "sns.boxplot(data=X_train,y='Fare')\n",
    "plt.show()"
   ]
  },
  {
   "cell_type": "code",
   "execution_count": 24,
   "id": "1213213c-2e11-42f0-82f4-3fb47d6a1a1a",
   "metadata": {},
   "outputs": [],
   "source": [
    "def get_iqr_bounds(series):\n",
    "    Q1 = series.quantile(0.25)\n",
    "    Q3 = series.quantile(0.75)\n",
    "    IQR = Q3 - Q1\n",
    "    lower = Q1 - 1.5 * IQR\n",
    "    upper = Q3 + 1.5 * IQR\n",
    "    return lower, upper\n",
    "\n",
    "age_lower, age_upper = get_iqr_bounds(X_train['Age'])\n",
    "fare_lower, fare_upper = get_iqr_bounds(X_train['Fare'])\n",
    "\n",
    "X_train = X_train[(X_train['Age'] >= age_lower) & (X_train['Age'] <= age_upper)]\n",
    "X_train = X_train[(X_train['Fare'] >= fare_lower) & (X_train['Fare'] <= fare_upper)]\n",
    "\n",
    "X_test = X_test[(X_test['Age'] >= age_lower) & (X_test['Age'] <= age_upper)]\n",
    "X_test = X_test[(X_test['Fare'] >= fare_lower) & (X_test['Fare'] <= fare_upper)]"
   ]
  },
  {
   "cell_type": "markdown",
   "id": "a886cce7-9668-4f31-a2bf-3893a601665d",
   "metadata": {},
   "source": [
    "### Encoding and Scaling The Data"
   ]
  },
  {
   "cell_type": "code",
   "execution_count": 26,
   "id": "cfeb5370-52b6-4eca-9243-85388a9ca393",
   "metadata": {},
   "outputs": [],
   "source": [
    "categorical_cols = ['Sex','Embarked']\n",
    "numerical_cols = ['Pclass', 'Age', 'SibSp', 'Parch', 'Fare']\n",
    "\n",
    "preprocessor = ColumnTransformer(\n",
    "    transformers=[\n",
    "        ('cat', OneHotEncoder(drop='first'), categorical_cols),\n",
    "        ('num',StandardScaler(),numerical_cols)\n",
    "    ],\n",
    "    remainder='passthrough'\n",
    ")\n",
    "\n",
    "X_train_encoded = preprocessor.fit_transform(X_train)\n",
    "X_test_encoded = preprocessor.transform(X_test)"
   ]
  },
  {
   "cell_type": "markdown",
   "id": "6b963e5a-ded7-4ba5-8108-b0d2429f6a3f",
   "metadata": {},
   "source": [
    "### Converting to a dataframe"
   ]
  },
  {
   "cell_type": "code",
   "execution_count": 28,
   "id": "4e11ef1a-8aa7-4028-be2f-94d6871c2ac5",
   "metadata": {},
   "outputs": [],
   "source": [
    "ohe = preprocessor.named_transformers_['cat']\n",
    "ohe_feature_names = ohe.get_feature_names_out(categorical_cols)\n",
    "\n",
    "all_feature_names = list(ohe_feature_names) + numerical_cols\n",
    "\n",
    "X_train_df = pd.DataFrame(X_train_encoded, columns=all_feature_names)\n",
    "X_test_df = pd.DataFrame(X_test_encoded, columns=all_feature_names)\n",
    "\n",
    "X_train_df.reset_index(drop=True, inplace=True)\n",
    "X_test_df.reset_index(drop=True, inplace=True)"
   ]
  }
 ],
 "metadata": {
  "kernelspec": {
   "display_name": "Python 3 (ipykernel)",
   "language": "python",
   "name": "python3"
  },
  "language_info": {
   "codemirror_mode": {
    "name": "ipython",
    "version": 3
   },
   "file_extension": ".py",
   "mimetype": "text/x-python",
   "name": "python",
   "nbconvert_exporter": "python",
   "pygments_lexer": "ipython3",
   "version": "3.12.4"
  }
 },
 "nbformat": 4,
 "nbformat_minor": 5
}
